{
 "cells": [
  {
   "cell_type": "code",
   "execution_count": 1,
   "metadata": {},
   "outputs": [],
   "source": [
    "import csv\n",
    "from xml.dom import minidom"
   ]
  },
  {
   "cell_type": "markdown",
   "metadata": {},
   "source": [
    "# Parse mast xml output"
   ]
  },
  {
   "cell_type": "code",
   "execution_count": 2,
   "metadata": {},
   "outputs": [],
   "source": [
    "mast = minidom.parse('mast.xml')\n",
    "seq_lens = {sequence.attributes['name'].value : sequence.attributes['length'].value for sequence in mast.getElementsByTagName('sequence')}\n",
    "motif_lens = {motif.attributes['alt'].value.split('-')[-1] : int(motif.attributes['length'].value) for motif in mast.getElementsByTagName('motif')}"
   ]
  },
  {
   "cell_type": "code",
   "execution_count": 3,
   "metadata": {},
   "outputs": [],
   "source": [
    "mast_motifs_arch = {}\n",
    "\n",
    "for sequence in mast.getElementsByTagName('sequence'):\n",
    "    name = sequence.attributes['name'].value#.replace('vdd', 'vanderdonk')\n",
    "    mast_motifs_arch[name] = []\n",
    "    for hit in sequence.getElementsByTagName('hit'):\n",
    "        motif = str(int(hit.attributes['idx'].value) + 1)\n",
    "        coord = int(hit.attributes['pos'].value) - 1\n",
    "        end = coord + motif_lens[motif]\n",
    "        mast_motifs_arch[name].append([motif, coord, end])"
   ]
  },
  {
   "cell_type": "markdown",
   "metadata": {},
   "source": [
    "# Make annotation"
   ]
  },
  {
   "cell_type": "code",
   "execution_count": 4,
   "metadata": {},
   "outputs": [],
   "source": [
    "with open('manual_pepts.tsv', 'r') as inf:\n",
    "    prots = [row[1] for row in csv.reader(inf, delimiter = '\\t')]"
   ]
  },
  {
   "cell_type": "code",
   "execution_count": 5,
   "metadata": {},
   "outputs": [],
   "source": [
    "motifs_for_tree = {}\n",
    "uniq = {}\n",
    "for x in mast_motifs_arch:\n",
    "    lankc = '_'.join(x.split('_')[0:2])\n",
    "    if x.replace('manual_', '') in prots:\n",
    "        if lankc not in motifs_for_tree:\n",
    "            motifs_for_tree[lankc] = []\n",
    "            uniq[lankc] = []\n",
    "        \n",
    "        if [y[0] for y in mast_motifs_arch[x][:-1]] not in uniq[lankc]:\n",
    "            uniq[lankc].append([y[0] for y in mast_motifs_arch[x][:-1]])\n",
    "            motifs_for_tree[lankc].append(mast_motifs_arch[x] + [x])"
   ]
  },
  {
   "cell_type": "markdown",
   "metadata": {},
   "source": [
    "# Write annotation file for iTOL"
   ]
  },
  {
   "cell_type": "code",
   "execution_count": 6,
   "metadata": {},
   "outputs": [],
   "source": [
    "colors = [\"#ffbaff\", \"#35618f\", \"#cfe2f2\", \"#c6dfb5\", \"#82a0ca\"]"
   ]
  },
  {
   "cell_type": "code",
   "execution_count": 7,
   "metadata": {},
   "outputs": [
    {
     "data": {
      "text/plain": [
       "2"
      ]
     },
     "execution_count": 7,
     "metadata": {},
     "output_type": "execute_result"
    }
   ],
   "source": [
    "n = max([len(x) for x in motifs_for_tree.values()])\n",
    "n"
   ]
  },
  {
   "cell_type": "code",
   "execution_count": 8,
   "metadata": {},
   "outputs": [],
   "source": [
    "for i in range(1,n + 1):\n",
    "    with open(f'motif_architectures_{i}.tsv', 'w') as outf:\n",
    "        writer = csv.writer(outf, delimiter = '\\t')\n",
    "        for x in motifs_for_tree:\n",
    "            if len(motifs_for_tree[x]) > i-1:\n",
    "                row = [x, x.replace('_', ' '), seq_lens[motifs_for_tree[x][i-1][-1]]]\n",
    "                for y in motifs_for_tree[x][i-1][:-1]:\n",
    "                    row.append('|'.join(['RE', str(y[1]), str(y[2]), colors[int(y[0])-1], y[0]]))\n",
    "                writer.writerow(row)"
   ]
  }
 ],
 "metadata": {
  "kernelspec": {
   "display_name": "Python 3",
   "language": "python",
   "name": "python3"
  },
  "language_info": {
   "codemirror_mode": {
    "name": "ipython",
    "version": 3
   },
   "file_extension": ".py",
   "mimetype": "text/x-python",
   "name": "python",
   "nbconvert_exporter": "python",
   "pygments_lexer": "ipython3",
   "version": "3.7.4"
  }
 },
 "nbformat": 4,
 "nbformat_minor": 2
}
