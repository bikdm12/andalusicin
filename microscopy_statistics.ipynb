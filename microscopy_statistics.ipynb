{
 "cells": [
  {
   "cell_type": "code",
   "execution_count": 1,
   "metadata": {},
   "outputs": [],
   "source": [
    "import csv\n",
    "from itertools import combinations\n",
    "from collections import OrderedDict\n",
    "from scipy.stats import chi2_contingency, fisher_exact\n",
    "from statsmodels.sandbox.stats.multicomp import multipletests\n",
    "from statsmodels.stats.proportion import proportion_confint"
   ]
  },
  {
   "cell_type": "markdown",
   "metadata": {},
   "source": [
    "# Parse input table"
   ]
  },
  {
   "cell_type": "code",
   "execution_count": 2,
   "metadata": {},
   "outputs": [
    {
     "data": {
      "text/plain": [
       "OrderedDict([('Andalusicin',\n",
       "              OrderedDict([('1', [84, 72]),\n",
       "                           ('2', [306, 277]),\n",
       "                           ('3', [291, 300]),\n",
       "                           ('4', [461, 420])])),\n",
       "             ('CCCP',\n",
       "              OrderedDict([('1', [3, 116]),\n",
       "                           ('2', [9, 349]),\n",
       "                           ('3', [13, 395])])),\n",
       "             ('DMSO',\n",
       "              OrderedDict([('1', [3, 140]),\n",
       "                           ('2', [5, 128]),\n",
       "                           ('3', [7, 564]),\n",
       "                           ('4', [1, 297])])),\n",
       "             ('Nisin',\n",
       "              OrderedDict([('1', [137, 2]),\n",
       "                           ('2', [202, 1]),\n",
       "                           ('3', [486, 10])]))])"
      ]
     },
     "execution_count": 2,
     "metadata": {},
     "output_type": "execute_result"
    }
   ],
   "source": [
    "microscopy = OrderedDict()\n",
    "with open('microscopy_counts.tsv') as inf:\n",
    "    next(inf)\n",
    "    for row in csv.reader(inf, delimiter = '\\t'):\n",
    "        if row[1] not in microscopy:\n",
    "            microscopy[row[1]] = OrderedDict()\n",
    "        microscopy[row[1]][row[0]] = [int(x) for x in row[2:]]\n",
    "microscopy"
   ]
  },
  {
   "cell_type": "markdown",
   "metadata": {},
   "source": [
    "# Compare replicates"
   ]
  },
  {
   "cell_type": "code",
   "execution_count": 3,
   "metadata": {},
   "outputs": [],
   "source": [
    "rep_combs = OrderedDict()\n",
    "rep_fisher = OrderedDict()\n",
    "for treatment in microscopy:\n",
    "    rep_combs[treatment] = []\n",
    "    rep_fisher[treatment] = []\n",
    "    for i in combinations(microscopy[treatment], 2):\n",
    "        rep_combs[treatment].append(i)\n",
    "        rep_fisher[treatment].append(fisher_exact([microscopy[treatment][x] for x in i]))"
   ]
  },
  {
   "cell_type": "code",
   "execution_count": 4,
   "metadata": {},
   "outputs": [
    {
     "data": {
      "text/plain": [
       "OrderedDict([('Andalusicin',\n",
       "              [(1.0561002178649237, 0.7869767204779357),\n",
       "               (1.2027491408934707, 0.3228790367648616),\n",
       "               (1.0629067245119306, 0.7942176509664645),\n",
       "               (1.1388589080352822, 0.26802988004568523),\n",
       "               (1.006444943890616, 0.9574241030839763),\n",
       "               (0.8837310195227766, 0.2640667251855691)]),\n",
       "             ('CCCP',\n",
       "              [(1.0028735632183907, 1.0),\n",
       "               (0.7858090185676393, 1.0),\n",
       "               (0.7835574167952392, 0.6673234846661388)]),\n",
       "             ('DMSO',\n",
       "              [(0.5485714285714286, 0.4879238881185358),\n",
       "               (1.726530612244898, 0.42792798442693414),\n",
       "               (6.364285714285714, 0.10221575071817324),\n",
       "               (3.1473214285714284, 0.05714533360447075),\n",
       "               (11.6015625, 0.011938263878003936),\n",
       "               (3.6861702127659575, 0.2756818379628697)]),\n",
       "             ('Nisin',\n",
       "              [(0.33910891089108913, 0.5687550124233149),\n",
       "               (1.4094650205761317, 1.0),\n",
       "               (4.156378600823046, 0.19066778724747369)])])"
      ]
     },
     "execution_count": 4,
     "metadata": {},
     "output_type": "execute_result"
    }
   ],
   "source": [
    "rep_fisher"
   ]
  },
  {
   "cell_type": "code",
   "execution_count": 7,
   "metadata": {},
   "outputs": [],
   "source": [
    "pvals = []\n",
    "for y in rep_fisher.values():\n",
    "    pvals += [x[1] for x in y]"
   ]
  },
  {
   "cell_type": "code",
   "execution_count": 8,
   "metadata": {},
   "outputs": [
    {
     "data": {
      "text/plain": [
       "(array([False, False, False, False, False, False, False, False, False,\n",
       "        False, False, False, False, False, False, False, False, False]),\n",
       " array([1.        , 1.        , 1.        , 1.        , 1.        ,\n",
       "        1.        , 1.        , 1.        , 1.        , 1.        ,\n",
       "        1.        , 1.        , 1.        , 0.21488875, 1.        ,\n",
       "        1.        , 1.        , 1.        ]),\n",
       " 0.002845571131556368,\n",
       " 0.002777777777777778)"
      ]
     },
     "execution_count": 8,
     "metadata": {},
     "output_type": "execute_result"
    }
   ],
   "source": [
    "multipletests(pvals, alpha=0.05, method='bonferroni')"
   ]
  },
  {
   "cell_type": "markdown",
   "metadata": {},
   "source": [
    "No significant difference between replicates of each treatment were found"
   ]
  },
  {
   "cell_type": "markdown",
   "metadata": {},
   "source": [
    "# Pool replicates"
   ]
  },
  {
   "cell_type": "code",
   "execution_count": 9,
   "metadata": {},
   "outputs": [],
   "source": [
    "pooled = OrderedDict()\n",
    "for treatment in microscopy:\n",
    "    pooled[treatment] = [0,0]\n",
    "    for date in microscopy[treatment]:\n",
    "        pooled[treatment][0] += microscopy[treatment][date][0]\n",
    "        pooled[treatment][1] += microscopy[treatment][date][1]"
   ]
  },
  {
   "cell_type": "code",
   "execution_count": 10,
   "metadata": {},
   "outputs": [
    {
     "data": {
      "text/plain": [
       "OrderedDict([('Andalusicin', [1142, 1069]),\n",
       "             ('CCCP', [25, 860]),\n",
       "             ('DMSO', [16, 1129]),\n",
       "             ('Nisin', [825, 13])])"
      ]
     },
     "execution_count": 10,
     "metadata": {},
     "output_type": "execute_result"
    }
   ],
   "source": [
    "pooled"
   ]
  },
  {
   "cell_type": "markdown",
   "metadata": {},
   "source": [
    "# Calculate confidence intervals"
   ]
  },
  {
   "cell_type": "code",
   "execution_count": 11,
   "metadata": {},
   "outputs": [],
   "source": [
    "ci = {x : proportion_confint(pooled[x][0], sum(pooled[x]), alpha=0.05, method='wilson') for x in pooled}"
   ]
  },
  {
   "cell_type": "code",
   "execution_count": 12,
   "metadata": {},
   "outputs": [
    {
     "data": {
      "text/plain": [
       "{'Andalusicin': (0.49566790140495093, 0.5372915683165835),\n",
       " 'CCCP': (0.019206150646389936, 0.04136872273106304),\n",
       " 'DMSO': (0.008619462853019705, 0.02257845270400242),\n",
       " 'Nisin': (0.973640205691301, 0.9909119572985116)}"
      ]
     },
     "execution_count": 12,
     "metadata": {},
     "output_type": "execute_result"
    }
   ],
   "source": [
    "ci"
   ]
  },
  {
   "cell_type": "code",
   "execution_count": 13,
   "metadata": {},
   "outputs": [],
   "source": [
    "ci_norm = {x : proportion_confint(pooled[x][0], sum(pooled[x]), alpha=0.05, method='normal') for x in pooled}"
   ]
  },
  {
   "cell_type": "code",
   "execution_count": 14,
   "metadata": {},
   "outputs": [
    {
     "data": {
      "text/plain": [
       "{'Andalusicin': (0.49567848180093804, 0.5373382527083338),\n",
       " 'CCCP': (0.017332866869053512, 0.039164308272189426),\n",
       " 'DMSO': (0.007174771226958878, 0.02077282702631623),\n",
       " 'Nisin': (0.976119662651585, 0.9928540843651213)}"
      ]
     },
     "execution_count": 14,
     "metadata": {},
     "output_type": "execute_result"
    }
   ],
   "source": [
    "ci_norm"
   ]
  },
  {
   "cell_type": "markdown",
   "metadata": {},
   "source": [
    "# Test difference between treatments"
   ]
  },
  {
   "cell_type": "code",
   "execution_count": 15,
   "metadata": {},
   "outputs": [],
   "source": [
    "post_combs = []\n",
    "post_fisher = []\n",
    "for i in combinations(pooled, 2):\n",
    "    post_combs.append(i)\n",
    "    post_fisher.append(fisher_exact([pooled[x] for x in i]))"
   ]
  },
  {
   "cell_type": "code",
   "execution_count": 16,
   "metadata": {},
   "outputs": [
    {
     "data": {
      "text/plain": [
       "[(36.74911131898971, 5.519159220622407e-178),\n",
       " (75.38108044901777, 5.142711028702052e-239),\n",
       " (0.016833630977690847, 1.9964059799926474e-168),\n",
       " (2.051235465116279, 0.02604305303173919),\n",
       " (0.0004580690627202255, 0.0),\n",
       " (0.00022331373969992216, 0.0)]"
      ]
     },
     "execution_count": 16,
     "metadata": {},
     "output_type": "execute_result"
    }
   ],
   "source": [
    "post_fisher"
   ]
  },
  {
   "cell_type": "code",
   "execution_count": 17,
   "metadata": {},
   "outputs": [],
   "source": [
    "post_pvals = [x[1] for x in post_fisher]"
   ]
  },
  {
   "cell_type": "code",
   "execution_count": 18,
   "metadata": {},
   "outputs": [
    {
     "data": {
      "text/plain": [
       "(array([ True,  True,  True, False,  True,  True]),\n",
       " array([3.31149553e-177, 3.08562662e-238, 1.19784359e-167, 1.56258318e-001,\n",
       "        0.00000000e+000, 0.00000000e+000]),\n",
       " 0.008512444610847103,\n",
       " 0.008333333333333333)"
      ]
     },
     "execution_count": 18,
     "metadata": {},
     "output_type": "execute_result"
    }
   ],
   "source": [
    "multipletests(post_pvals, alpha=0.05, method='bonferroni')"
   ]
  },
  {
   "cell_type": "code",
   "execution_count": 19,
   "metadata": {},
   "outputs": [
    {
     "data": {
      "text/plain": [
       "[('Andalusicin', 'CCCP'),\n",
       " ('Andalusicin', 'DMSO'),\n",
       " ('Andalusicin', 'Nisin'),\n",
       " ('CCCP', 'DMSO'),\n",
       " ('CCCP', 'Nisin'),\n",
       " ('DMSO', 'Nisin')]"
      ]
     },
     "execution_count": 19,
     "metadata": {},
     "output_type": "execute_result"
    }
   ],
   "source": [
    "post_combs"
   ]
  },
  {
   "cell_type": "markdown",
   "metadata": {},
   "source": [
    "Difference between DMSO and CCCP appeared to be non-significant"
   ]
  }
 ],
 "metadata": {
  "kernelspec": {
   "display_name": "Python 3",
   "language": "python",
   "name": "python3"
  },
  "language_info": {
   "codemirror_mode": {
    "name": "ipython",
    "version": 3
   },
   "file_extension": ".py",
   "mimetype": "text/x-python",
   "name": "python",
   "nbconvert_exporter": "python",
   "pygments_lexer": "ipython3",
   "version": "3.7.4"
  }
 },
 "nbformat": 4,
 "nbformat_minor": 2
}
